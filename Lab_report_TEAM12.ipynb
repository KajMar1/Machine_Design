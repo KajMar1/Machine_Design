{
 "cells": [
  {
   "cell_type": "markdown",
   "id": "ed8a003d",
   "metadata": {},
   "source": [
    "# Assignment\n",
    "\n",
    "###In this assignment, we will design the drive system for a transport belt. The drive will be powered by a geared electromotor and a chain transmission. Here are the initial specifications:###\n",
    "\n",
    "Speed of the motor: $n_3 = 1500 \\: rpm$\n",
    "\n",
    "Team specific requirements:\n",
    "- Speed of chain: $v_1 = 15 \\: km/h$\n",
    "- Sprocket diameter: $d_1 = 450 \\: mm$\n",
    "- Power needed to move the carts:  $P_1 = 4.4 \\: kW$\n",
    "-----"
   ]
  },
  {
   "cell_type": "code",
   "execution_count": 12,
   "id": "e4a03b20",
   "metadata": {},
   "outputs": [],
   "source": [
    "# import statements\n",
    "import sympy as sp\n",
    "import numpy as np\n",
    "import matplotlib.pyplot as plt\n",
    "\n",
    "import rm_python_lib.MechDesign.Helpers as HM\n",
    "\n",
    "from rm_python_lib.MechDesign.Units.Units import m_, mm_, kg_, s_, N_, rpm_, W_\n",
    "import rm_python_lib.MechDesign.Units.UnitMethods as UM\n",
    "\n",
    "import rm_python_lib.MechDesign.RnM as RnM\n",
    "belt = RnM.Belt()\n",
    "gears = RnM.GearDesign()\n",
    "chain = RnM.Chain()\n",
    "B1 = RnM.Shaft()\n",
    "B2 = RnM.Shaft()\n",
    "connections = RnM.ShaftConnection()"
   ]
  },
  {
   "cell_type": "markdown",
   "id": "b48a0925",
   "metadata": {},
   "source": [
    "## Sesion 1\n",
    "\n"
   ]
  },
  {
   "cell_type": "markdown",
   "id": "68f5c60d",
   "metadata": {},
   "source": [
    "### P T n Calculations\n",
    "First lets insert known data to the variables. The belt efficiency is taken from the chapter 16 that explains the flat belts (the ones we will be using). Gear efficiency is assumed out of nowhere."
   ]
  },
  {
   "cell_type": "code",
   "execution_count": null,
   "id": "f19ee410",
   "metadata": {},
   "outputs": [],
   "source": []
  },
  {
   "cell_type": "code",
   "execution_count": 13,
   "id": "40d8b921",
   "metadata": {},
   "outputs": [],
   "source": [
    "# Given values\n",
    "belt.n_1 = 1500*rpm_  # Speed of motor\n",
    "chain.v = 15/3.6*m_/s_  # Speed of sprocket 1\n",
    "chain.d_1 = UM.All_to_SI(450*mm_)  # Diameter of sprocket 1\n",
    "chain.P_2 = 4.4*1000*W_  # Power needed at sprocket 1\n",
    "gears.beta_1 =0    # teeth are straight cut \n",
    "gears.beta_2 = 0    # teeth are straight cut \n",
    "gears.nu_t = 0.9 # gear transmission efficiency\n",
    "belt.eta = 0.98 # belt drive efficiency\n"
   ]
  },
  {
   "cell_type": "markdown",
   "id": "5c60c8e8",
   "metadata": {},
   "source": []
  },
  {
   "cell_type": "markdown",
   "id": "872ff8a7",
   "metadata": {},
   "source": [
    "Having in mind the given data now it is possible to calculate the parameters for the shaft $B2$. Also it is important to mention that the shafts are numbered from left to right. Meaning that motor shaft data is marked with a \"$_1$\", $B1$ shaft with and index \"$_2$\" and the $B2$ shaft with and index \"$_3$\". Since now we assume ideal conditions to compute aproximate power, all three shafts will have the same power because of the conservation of energy."
   ]
  },
  {
   "cell_type": "code",
   "execution_count": 14,
   "id": "83fe7833",
   "metadata": {},
   "outputs": [
    {
     "data": {
      "text/latex": [
       "$\\displaystyle P_{1} = 4989.0 W_{}$"
      ],
      "text/plain": [
       "Eq(P_1, 4989.0*W_)"
      ]
     },
     "metadata": {},
     "output_type": "display_data"
    },
    {
     "data": {
      "text/latex": [
       "$\\displaystyle P_{2} = 4889.0 W_{}$"
      ],
      "text/plain": [
       "Eq(P_2, 4889.0*W_)"
      ]
     },
     "metadata": {},
     "output_type": "display_data"
    },
    {
     "data": {
      "text/latex": [
       "$\\displaystyle P_{3} = 4400.0 W_{}$"
      ],
      "text/plain": [
       "Eq(P_3, 4400.0*W_)"
      ]
     },
     "metadata": {},
     "output_type": "display_data"
    },
    {
     "data": {
      "text/latex": [
       "$\\displaystyle T_{3} = 237.6 W_{} s_{}$"
      ],
      "text/plain": [
       "Eq(T_3, 237.6*W_*s_)"
      ]
     },
     "metadata": {},
     "output_type": "display_data"
    },
    {
     "data": {
      "text/latex": [
       "$\\displaystyle n_{3} = 176.8 rpm_{}$"
      ],
      "text/plain": [
       "Eq(n_3, 176.8*rpm_)"
      ]
     },
     "metadata": {},
     "output_type": "display_data"
    }
   ],
   "source": [
    "chain.T_1 = chain.P_2/(2*chain.v/chain.d_1)  # Torque on sprocket 1\n",
    "\n",
    "w_1 = 2*chain.v/chain.d_1             # Angular velocity of sprocket 1\n",
    "chain.n_1 = UM.RemoveUnits(w_1/(2*sp.pi)*60*rpm_)*rpm_  # Rotational speed of sprocket 1\n",
    "\n",
    "gears.P_1 = chain.P_2/ gears.nu_t  # Power needed at gear 1\n",
    "belt.P = gears.P_1 / belt.eta  # Power needed at pulley 1\n",
    "\n",
    "\n",
    "t=HM.EqPrint('P_1', belt.P)\n",
    "t=HM.EqPrint('P_2', gears.P_1)\n",
    "t=HM.EqPrint('P_3', chain.P_2)\n",
    "t=HM.EqPrint('T_3', chain.T_1.evalf())\n",
    "t=HM.EqPrint('n_3', chain.n_1.evalf())"
   ]
  },
  {
   "cell_type": "code",
   "execution_count": 15,
   "id": "df98f689",
   "metadata": {},
   "outputs": [
    {
     "data": {
      "text/latex": [
       "$\\displaystyle i_{tot} = 0.1179$"
      ],
      "text/plain": [
       "Eq(i_tot, 0.1179)"
      ]
     },
     "metadata": {},
     "output_type": "display_data"
    },
    {
     "data": {
      "text/latex": [
       "$\\displaystyle n_{2} = 398.9 rpm_{}$"
      ],
      "text/plain": [
       "Eq(n_2, 398.9*rpm_)"
      ]
     },
     "metadata": {},
     "output_type": "display_data"
    },
    {
     "data": {
      "text/latex": [
       "$\\displaystyle i_{r} = 0.266$"
      ],
      "text/plain": [
       "Eq(i_r, 0.266)"
      ]
     },
     "metadata": {},
     "output_type": "display_data"
    },
    {
     "data": {
      "text/latex": [
       "$\\displaystyle i_{twk} = 0.4433$"
      ],
      "text/plain": [
       "Eq(i_twk, 0.4433)"
      ]
     },
     "metadata": {},
     "output_type": "display_data"
    }
   ],
   "source": [
    "import math\n",
    "i_tot = chain.n_1/belt.n_1\n",
    "t=HM.EqPrint('i_tot',i_tot)\n",
    "\n",
    "\n",
    "belt.n_2 = math.sqrt(UM.RemoveUnits(3*chain.n_1*belt.n_1/5))\n",
    "t = HM.EqPrint('n_2',belt.n_2*rpm_) \n",
    "\n",
    "belt.i = UM.RemoveUnits(belt.n_2/belt.n_1)\n",
    "t = HM.EqPrint('i_r',belt.i)\n",
    "\n",
    "gears.omega_1 = UM.rpm_to_rad_s(belt.n_2*rpm_)\n",
    "gears.omega_2 = UM.rpm_to_rad_s(chain.n_1)\n",
    "\n",
    "gears.i = gears.omega_2/gears.omega_1\n",
    "t = HM.EqPrint('i_twk', gears.i)\n",
    "\n"
   ]
  },
  {
   "cell_type": "markdown",
   "id": "2dc7aa65",
   "metadata": {},
   "source": [
    "Since now all the rotational speeds are known the torques can be computed."
   ]
  },
  {
   "cell_type": "code",
   "execution_count": 16,
   "id": "cdad36f3",
   "metadata": {},
   "outputs": [
    {
     "data": {
      "text/latex": [
       "$\\displaystyle T_{1} = 31.76 W_{} s_{}$"
      ],
      "text/plain": [
       "Eq(T_1, 31.76*W_*s_)"
      ]
     },
     "metadata": {},
     "output_type": "display_data"
    },
    {
     "data": {
      "text/latex": [
       "$\\displaystyle T_{2} = 117.0 W_{} s_{}$"
      ],
      "text/plain": [
       "Eq(T_2, 117.0*W_*s_)"
      ]
     },
     "metadata": {},
     "output_type": "display_data"
    }
   ],
   "source": [
    "belt.T_1 = belt.P/ UM.rpm_to_rad_s(belt.n_1)\n",
    "\n",
    "belt.T_2 = gears.P_1/ gears.omega_1\n",
    "t = HM.EqPrint('T_1', belt.T_1)\n",
    "t = HM.EqPrint('T_2', belt.T_2)"
   ]
  },
  {
   "cell_type": "markdown",
   "id": "f09476f9",
   "metadata": {},
   "source": [
    "### Motor selection"
   ]
  },
  {
   "cell_type": "markdown",
   "id": "2e3939fe",
   "metadata": {},
   "source": [
    "### Finding the right Ka"
   ]
  },
  {
   "cell_type": "markdown",
   "id": "27080c5f",
   "metadata": {},
   "source": [
    "### Key calculations\n",
    "In this section, Ka and the efficiency of the motor is calculated based on some design assumptions.\n",
    "------------\n",
    "\n",
    "![Table_3_5b](Table_3_5b.png)\n",
    "\n",
    "Assuming a medium-duty induction motor (moderate start/stop frequency), continuous full-load operation with occasional mild shocks, a drivetrain susceptible to gear pitting, and 20 hours/day operation, the preliminary estimate for the control/amplifier constant is 𝐾𝐴=1.9. In this context 𝐾𝐴 represents the gain between the control command and stator voltage (i.e. Vs=KA⋅Vcontrol).A higher KA increases available stator voltage and therefore torque for a given controller output, but it also increases stator currents and associated copper and iron losses (losses scale nonlinearly with current). The operating conditions (frequent moderate starts, shocks and gear pitting) will reduce overall mechanical efficiency and increase vibration-related losses and bearing wear, so the effective system efficiency will be lower than nameplate motor efficiency. This estimated 𝐾𝐴 should therefore be validated experimentally and may need to be derated to limit thermal stress and prolong gearbox and bearing life."
   ]
  },
  {
   "cell_type": "markdown",
   "id": "a955e200",
   "metadata": {},
   "source": []
  }
 ],
 "metadata": {
  "kernelspec": {
   "display_name": "Python 3",
   "language": "python",
   "name": "python3"
  },
  "language_info": {
   "codemirror_mode": {
    "name": "ipython",
    "version": 3
   },
   "file_extension": ".py",
   "mimetype": "text/x-python",
   "name": "python",
   "nbconvert_exporter": "python",
   "pygments_lexer": "ipython3",
   "version": "3.13.7"
  }
 },
 "nbformat": 4,
 "nbformat_minor": 5
}
