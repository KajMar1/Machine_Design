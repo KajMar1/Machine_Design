{
 "cells": [
  {
   "cell_type": "markdown",
   "id": "ed8a003d",
   "metadata": {},
   "source": [
    "# Assignment\n",
    "\n",
    "###In this assignment, we will design the drive system for a transport belt. The drive will be powered by a geared electromotor and a chain transmission. Here are the initial specifications:###\n",
    "\n",
    "Speed of the motor: $n_3 = 1500 \\: rpm$\n",
    "\n",
    "Team specific requirements:\n",
    "- Speed of chain: $v_1 = 15 \\: km/h$\n",
    "- Sprocket diameter: $d_1 = 450 \\: mm$\n",
    "- Power needed to move the carts:  $P_1 = 4.4 \\: kW$\n",
    "-----"
   ]
  },
  {
   "cell_type": "code",
   "execution_count": 2,
   "id": "e4a03b20",
   "metadata": {},
   "outputs": [
    {
     "name": "stderr",
     "output_type": "stream",
     "text": [
      "c:\\Users\\Admin\\OneDrive\\Documents\\MD Lab team\\Machine_Design\\rm_python_lib\\MechDesign\\RnM\\C3_StrengthAndStress.py:36: SyntaxWarning: invalid escape sequence '\\ '\n",
      "  'K_alpha'           :'[] Shape-dependent size factor of the part and test rod respectively,\\ (see 3.5.1-3.), values according to table 3-11d' ,\\\n",
      "c:\\Users\\Admin\\OneDrive\\Documents\\MD Lab team\\Machine_Design\\rm_python_lib\\MechDesign\\RnM\\C3_StrengthAndStress.py:37: SyntaxWarning: invalid escape sequence '\\ '\n",
      "  'K_alphaTest'       :'[] Shape-dependent size factor of the part and test rod respectively,\\ (see 3.5.1-3.), values according to table 3-11d' ,\\\n"
     ]
    }
   ],
   "source": [
    "# import statements\n",
    "import sympy as sp\n",
    "import numpy as np\n",
    "import matplotlib.pyplot as plt\n",
    "\n",
    "import rm_python_lib.MechDesign.Helpers as HM\n",
    "\n",
    "\n",
    "from rm_python_lib.MechDesign.Units.Units import m_, mm_, kg_, s_, N_, rpm_, W_\n",
    "import rm_python_lib.MechDesign.Units.UnitMethods as UM\n",
    "\n",
    "import rm_python_lib.MechDesign.RnM as RnM\n",
    "belt = RnM.Belt()\n",
    "gears = RnM.GearDesign()\n",
    "chain = RnM.Chain()\n",
    "B1 = RnM.Shaft()\n",
    "B2 = RnM.Shaft()\n",
    "connections = RnM.ShaftConnection()"
   ]
  },
  {
   "cell_type": "markdown",
   "id": "b48a0925",
   "metadata": {},
   "source": [
    "## Sesion 1\n",
    "\n"
   ]
  },
  {
   "cell_type": "markdown",
   "id": "68f5c60d",
   "metadata": {},
   "source": [
    "### 1. P T n Calculations\n",
    "First let's insert known data to the variables. The belt efficiency is taken from the chapter 16 from Roloff and Matek Book that explains the flat belts (the ones we will be using). Gear efficiency is assumed based on the conditions in Part 3 of this assignment."
   ]
  },
  {
   "cell_type": "code",
   "execution_count": 3,
   "id": "40d8b921",
   "metadata": {},
   "outputs": [],
   "source": [
    "# Given values\n",
    "belt.n_1 = 1500*rpm_  # Speed of motor\n",
    "chain.v = 15/3.6*m_/s_  # Speed of sprocket 1\n",
    "chain.d_1 = UM.All_to_SI(450*mm_)  # Diameter of sprocket 1\n",
    "chain.P_2 = 4.4*1000*W_  # Power needed at sprocket 1\n",
    "gears.beta_1 =0    # teeth are straight cut \n",
    "gears.beta_2 = 0    # teeth are straight cut \n",
    "gears.nu_t = 0.9 # gear transmission efficiency\n",
    "belt.eta = 0.98 # belt drive efficiency\n"
   ]
  },
  {
   "cell_type": "markdown",
   "id": "872ff8a7",
   "metadata": {},
   "source": [
    "Having in mind the given data now it is possible to calculate the parameters for the shaft $B2$. Also it is important to mention that the shafts are numbered from left to right. Meaning that motor shaft data is marked with a \"$_1$\", $B1$ shaft with and index \"$_2$\" and the $B2$ shaft with and index \"$_3$\". Since real operating conditions include transmission losses, the power decreases along the system, and each successive shaft transmits slightly less power."
   ]
  },
  {
   "cell_type": "code",
   "execution_count": 4,
   "id": "83fe7833",
   "metadata": {},
   "outputs": [
    {
     "data": {
      "text/latex": [
       "$\\displaystyle P_{1} = 4989.0 W_{}$"
      ],
      "text/plain": [
       "Eq(P_1, 4989.0*W_)"
      ]
     },
     "metadata": {},
     "output_type": "display_data"
    },
    {
     "data": {
      "text/latex": [
       "$\\displaystyle P_{2} = 4889.0 W_{}$"
      ],
      "text/plain": [
       "Eq(P_2, 4889.0*W_)"
      ]
     },
     "metadata": {},
     "output_type": "display_data"
    },
    {
     "data": {
      "text/latex": [
       "$\\displaystyle P_{3} = 4400.0 W_{}$"
      ],
      "text/plain": [
       "Eq(P_3, 4400.0*W_)"
      ]
     },
     "metadata": {},
     "output_type": "display_data"
    },
    {
     "data": {
      "text/latex": [
       "$\\displaystyle T_{3} = 237.6 W_{} s_{}$"
      ],
      "text/plain": [
       "Eq(T_3, 237.6*W_*s_)"
      ]
     },
     "metadata": {},
     "output_type": "display_data"
    },
    {
     "data": {
      "text/latex": [
       "$\\displaystyle n_{3} = 176.8 rpm_{}$"
      ],
      "text/plain": [
       "Eq(n_3, 176.8*rpm_)"
      ]
     },
     "metadata": {},
     "output_type": "display_data"
    }
   ],
   "source": [
    "chain.T_1 = chain.P_2/(2*chain.v/chain.d_1)  # Torque on sprocket 1\n",
    "\n",
    "w_1 = 2*chain.v/chain.d_1             # Angular velocity of sprocket 1\n",
    "chain.n_1 = UM.RemoveUnits(w_1/(2*sp.pi)*60*rpm_)*rpm_  # Rotational speed of sprocket 1\n",
    "\n",
    "gears.P_1 = chain.P_2/ gears.nu_t  # Power needed at gear 1\n",
    "belt.P = gears.P_1 / belt.eta  # Power needed at pulley 1\n",
    "\n",
    "\n",
    "t=HM.EqPrint('P_1', belt.P)\n",
    "t=HM.EqPrint('P_2', gears.P_1)\n",
    "t=HM.EqPrint('P_3', chain.P_2)\n",
    "t=HM.EqPrint('T_3', chain.T_1.evalf())\n",
    "t=HM.EqPrint('n_3', chain.n_1.evalf())"
   ]
  },
  {
   "cell_type": "code",
   "execution_count": 5,
   "id": "df98f689",
   "metadata": {},
   "outputs": [
    {
     "data": {
      "text/latex": [
       "$\\displaystyle i_{tot} = 8.482$"
      ],
      "text/plain": [
       "Eq(i_tot, 8.482)"
      ]
     },
     "metadata": {},
     "output_type": "display_data"
    },
    {
     "data": {
      "text/latex": [
       "$\\displaystyle n_{2} = 398.9 rpm_{}$"
      ],
      "text/plain": [
       "Eq(n_2, 398.9*rpm_)"
      ]
     },
     "metadata": {},
     "output_type": "display_data"
    },
    {
     "data": {
      "text/latex": [
       "$\\displaystyle i_{r} = 3.76$"
      ],
      "text/plain": [
       "Eq(i_r, 3.76)"
      ]
     },
     "metadata": {},
     "output_type": "display_data"
    },
    {
     "data": {
      "text/latex": [
       "$\\displaystyle i_{twk} = 2.256$"
      ],
      "text/plain": [
       "Eq(i_twk, 2.256)"
      ]
     },
     "metadata": {},
     "output_type": "display_data"
    }
   ],
   "source": [
    "import math\n",
    "i_tot = belt.n_1/chain.n_1\n",
    "t=HM.EqPrint('i_tot',i_tot)\n",
    "\n",
    "\n",
    "belt.n_2 = math.sqrt(UM.RemoveUnits(3*chain.n_1*belt.n_1/5))\n",
    "t = HM.EqPrint('n_2',belt.n_2*rpm_) \n",
    "\n",
    "belt.i = UM.RemoveUnits(belt.n_1/belt.n_2)\n",
    "t = HM.EqPrint('i_r',belt.i)\n",
    "\n",
    "gears.omega_1 = UM.rpm_to_rad_s(belt.n_2*rpm_)\n",
    "gears.omega_2 = UM.rpm_to_rad_s(chain.n_1)\n",
    "\n",
    "gears.i = gears.omega_1/gears.omega_2\n",
    "t = HM.EqPrint('i_twk', gears.i)\n",
    "\n"
   ]
  },
  {
   "cell_type": "markdown",
   "id": "2dc7aa65",
   "metadata": {},
   "source": [
    "Since now all the rotational speeds are known the torques can be computed."
   ]
  },
  {
   "cell_type": "code",
   "execution_count": 6,
   "id": "cdad36f3",
   "metadata": {},
   "outputs": [
    {
     "data": {
      "text/latex": [
       "$\\displaystyle T_{1} = 31.76 W_{} s_{}$"
      ],
      "text/plain": [
       "Eq(T_1, 31.76*W_*s_)"
      ]
     },
     "metadata": {},
     "output_type": "display_data"
    },
    {
     "data": {
      "text/latex": [
       "$\\displaystyle T_{2} = 117.0 W_{} s_{}$"
      ],
      "text/plain": [
       "Eq(T_2, 117.0*W_*s_)"
      ]
     },
     "metadata": {},
     "output_type": "display_data"
    }
   ],
   "source": [
    "belt.T_1 = belt.P/ UM.rpm_to_rad_s(belt.n_1)\n",
    "\n",
    "belt.T_2 = gears.P_1/ gears.omega_1\n",
    "t = HM.EqPrint('T_1', belt.T_1)\n",
    "t = HM.EqPrint('T_2', belt.T_2)"
   ]
  },
  {
   "cell_type": "markdown",
   "id": "f09476f9",
   "metadata": {},
   "source": [
    "### 2. Motor selection\n",
    "------------"
   ]
  },
  {
   "cell_type": "markdown",
   "id": "27dca9f1",
   "metadata": {},
   "source": [
    "### Selection Criteria"
   ]
  },
  {
   "cell_type": "markdown",
   "id": "79304bc8",
   "metadata": {},
   "source": [
    "Based on the provided data of desired Power output = 4.4kW, and with the belt efficiency n (= 0.98), and the gear efficiency ng (assumption ng = 0.9), and kA = 1.9, we can find that the motor desired power is around 9.48kW. Looking at the \"Power P in kW for a synchronous rotational speed, 1500 rpm-1 column, we notice there is no 9.48kW value. Therefore we need to take the uper suitable value, 11kW. And hence the selected motor is 160M. It has a shaft diameter of 42mm (needed for the key calculation)."
   ]
  },
  {
   "cell_type": "markdown",
   "id": "d3811e44",
   "metadata": {},
   "source": [
    "![Motor Selection Table 16-21](table16-21.png)\n"
   ]
  },
  {
   "cell_type": "markdown",
   "id": "2e3939fe",
   "metadata": {},
   "source": [
    "### 3. Finding the right $K_A$ and efficiency\n",
    "------------\n",
    "\n",
    "In this section, $K_A$ and the efficiency of the motor is calculated based on some design assumptions.\n",
    "\n",
    "\n",
    "![Table_3_5b](Table_3_5b.png)\n",
    "\n",
    "The operating conditions correspond to medium-duty service, characterized by a moderate number of startups, full-load operation with mild shocks, and a drivetrain susceptible to gear pitting. Based on these assumptions and an average daily runtime of 20 hours, the estimated operating factor is $K_A$ = 1.9. This factor accounts for dynamic effects such as torque fluctuations and transient load peaks, representing the ratio between equivalent dynamic torque and nominal steady torque. Consequently, the effective efficiency of the motor–gear system will be slightly lower than the rated efficiency due to mechanical losses and vibration-induced stresses. This estimation serves as a preliminary value and should be refined through vibration analysis, load monitoring, and thermal efficiency testing under real operating conditions."
   ]
  },
  {
   "cell_type": "markdown",
   "id": "27080c5f",
   "metadata": {},
   "source": [
    "### 4. Key calculations\n"
   ]
  },
  {
   "cell_type": "markdown",
   "id": "362152b8",
   "metadata": {},
   "source": [
    "The dimensions and type of the key are constrainted by the shaft's characteristic.\n",
    "For general form fitting with high torque capacity, the DIN 6885 standard is suitable due to its large contact surface. Another significant reason is that this standard favors no axial movement, which is the case here.\n",
    "\n",
    "1. Rationale for Key Type A (Rounded Ends)\n",
    "We have chosen Key Type A (with rounded ends) over Type B (with squared ends) because of ease on construction and higher availability in course materials.\n",
    "\n",
    "2. Based on the tables available in \"2 - Table connections\" file, and the motor selection results above, the dimensions of our keys and shafts are:\n",
    "    - Shaft diameter: 42mm\n",
    "    - Key width b: 12mm\n",
    "    - key height h: 8mm\n",
    "    - Depth key way (shaft) t1: 5mm\n",
    "    - Depth key (hub) t2: 3.3mm\n",
    "    - Standard length l (max): 110mm (we pick the min value between motor's length(110mm) and key's length (140mm))\n",
    "\n",
    "3. Based on Table 12-1a, we can only record constraints of the hub's dimension. Assume that our hub is made out of steel, its diameter varies from 75.6 to 84mm, while its length is between 46.2 and 58.8mm.\n",
    "\n",
    "4. We then use the existing formula at Formula 12.1 or the built-in function to calculate the key's surface pressure on the side at its weakest point and compare it with yield strength value (p_hat) obtained from the materials. The material's characteristics can be obtained from the file \"General_Tables_RM_material_properties_EN\". \n",
    "    - Shaft/Hub: yield strength ReN = 550N/mm^2 (Material 38Cr2 - from assignment description)\n",
    "    - Key: yield strength ReN = 295N/mm^2 (Material E295 - From Chapter 12)"
   ]
  },
  {
   "cell_type": "markdown",
   "id": "a955e200",
   "metadata": {},
   "source": [
    "There are two ways of finding surface pressure and the threshold p_hat value: method B and C.\n",
    "In average surface pressure calculation, method B/C influences the value of K_lamda: K_lamda = 1 for C and according to figure 12-2c (with reference based on l'/d = (l-b)/d). In threshold calculation, method B/C influences the formula more. Here, because of our material's characteristic, the formula for ductile material is used.\n",
    "In this assignment, method C is chosen because of the dominance of uneven surface loading factor due to relative rotation of shaft/hub to alternating torques in method B."
   ]
  },
  {
   "cell_type": "code",
   "execution_count": 7,
   "id": "945fece3",
   "metadata": {},
   "outputs": [
    {
     "data": {
      "text/latex": [
       "$\\displaystyle p_{gem} = \\frac{0.03451 N_{} m_{}}{mm_{}^{3}}$"
      ],
      "text/plain": [
       "Eq(p_gem, 0.03451*N_*m_/mm_**3)"
      ]
     },
     "metadata": {},
     "output_type": "display_data"
    },
    {
     "data": {
      "text/latex": [
       "$\\displaystyle p_{gem} = \\frac{34.51 N_{}}{mm_{}^{2}}$"
      ],
      "text/plain": [
       "Eq(p_gem, 34.51*N_/mm_**2)"
      ]
     },
     "metadata": {},
     "output_type": "display_data"
    }
   ],
   "source": [
    "# creating a new shaft connection, (this is 1 specific connection in your design)\n",
    "SC = RnM.ShaftConnection() \n",
    "\n",
    "# setting up constants, based on assignment (units are specified using a trailing '_')\n",
    "SC.d = 42*mm_ \n",
    "SC.T_nom = 70.0282*N_*m_\n",
    "SC.K_A = 1.9\n",
    "\n",
    "# setting up constants that are not likely to change\n",
    "SC.phi = 1 # 1key\n",
    "SC.n = 1 # 1 key\n",
    "SC.K_lambda = 1 # method C\n",
    "\n",
    "SC.K_t = 0.97\n",
    "SC.b = 12*mm_\n",
    "SC.h = 8*mm_\n",
    "\n",
    "# setting up constants chosen more arbitrary\n",
    "# guessing a first value for key length\n",
    "SC.l = 63*mm_  # when using l'<=1.3*d with a shaft of 60mm and key width of 18 mm l'<= 78 and l<78+18=96mm and a DIN 116 A60 has max length of 85mm\n",
    "\n",
    "# setting up helper functions\n",
    "SC.lprime = SC.E12_1_hI_KeyEffectiveLength()\n",
    "SC.hprime = SC.E12_1_hJ_KeyEffectiveHeight()\n",
    "SC.T_eq = SC.E12_1_hC_DynamicLoadTorque()\n",
    "\n",
    "# setting up the main equations\n",
    "SC.p_gem = SC.E12_1B_KeyAveragePressure()\n",
    "HM.EqPrint(\"p_gem\",SC.p_gem)\n",
    "# convert units, the previous expression still has both m_ and mm_\n",
    "subst = {m_:1e3*mm_}\n",
    "SC.p_gem = SC.p_gem.evalf(subs=subst)  # this line will substitute the symbol 'm_' with '1e3*mm_\n",
    "t=HM.EqPrint('p_gem',SC.p_gem)\n"
   ]
  },
  {
   "cell_type": "code",
   "execution_count": 8,
   "id": "c0b0e0b2",
   "metadata": {},
   "outputs": [
    {
     "data": {
      "text/latex": [
       "$\\displaystyle C_{plot} = 1760.0$"
      ],
      "text/plain": [
       "Eq(C_plot, 1760.0)"
      ]
     },
     "metadata": {},
     "output_type": "display_data"
    },
    {
     "data": {
      "text/latex": [
       "$\\displaystyle C_{denom val} = 3.6 mm_{}$"
      ],
      "text/plain": [
       "Eq(C_denom_val, 3.6*mm_)"
      ]
     },
     "metadata": {},
     "output_type": "display_data"
    },
    {
     "data": {
      "text/latex": [
       "$\\displaystyle C_{denom val} = 3.6 mm_{}$"
      ],
      "text/plain": [
       "Eq(C_denom_val, 3.6*mm_)"
      ]
     },
     "execution_count": 8,
     "metadata": {},
     "output_type": "execute_result"
    }
   ],
   "source": [
    "# The numerator constant C_num = 2 * T_eq * K_lambda (in N.mm)\n",
    "C_num_sym = 2 * SC.T_eq * SC.K_lambda\n",
    "C_num_val = UM.RemoveUnits(C_num_sym.evalf(subs=subst))\n",
    "\n",
    "# The denominator constant C_denom = d * h' (in mm^2)\n",
    "C_denom_val = UM.RemoveUnits((SC.d * SC.hprime*SC.n*SC.phi))\n",
    "\n",
    "# Final Plot Constant C_plot = C_num / C_denom (in N/mm^2 * mm)\n",
    "C_plot = C_num_val / C_denom_val \n",
    "# C_plot is approx. 2100 N/mm^2 * mm\n",
    "HM.EqPrint('C_plot', C_plot)\n",
    "HM.EqPrint('C_denom_val', SC.hprime)\n"
   ]
  },
  {
   "cell_type": "code",
   "execution_count": 9,
   "id": "df20261c",
   "metadata": {},
   "outputs": [
    {
     "data": {
      "text/latex": [
       "$\\displaystyle R_{eShaft} = \\frac{533.5 N_{}}{mm_{}^{2}}$"
      ],
      "text/plain": [
       "Eq(R_eShaft, 533.5*N_/mm_**2)"
      ]
     },
     "metadata": {},
     "output_type": "display_data"
    },
    {
     "data": {
      "text/latex": [
       "$\\displaystyle R_{eKey} = \\frac{286.1 N_{}}{mm_{}^{2}}$"
      ],
      "text/plain": [
       "Eq(R_eKey, 286.1*N_/mm_**2)"
      ]
     },
     "metadata": {},
     "output_type": "display_data"
    },
    {
     "data": {
      "text/latex": [
       "$\\displaystyle R_{mHub} = \\frac{1000 N_{}}{mm_{}^{2}}$"
      ],
      "text/plain": [
       "Eq(R_mHub, 1000*N_/mm_**2)"
      ]
     },
     "metadata": {},
     "output_type": "display_data"
    },
    {
     "data": {
      "text/latex": [
       "$\\displaystyle S = 8.292$"
      ],
      "text/plain": [
       "Eq(S, 8.292)"
      ]
     },
     "metadata": {},
     "output_type": "display_data"
    }
   ],
   "source": [
    "# getting relevant limits for the surface pressure\n",
    "R_eNShaft = 550* N_/mm_**2\n",
    "K_tShaft = 0.97\n",
    "R_eNKey = 295* N_/mm_**2\n",
    "K_tKey = K_tShaft\n",
    "R_mNGear = 1000* N_/mm_**2\n",
    "K_tGear = 1\n",
    "# calculate the reference strengths\n",
    "R_eShaft = R_eNShaft * K_tShaft\n",
    "R_eKey = R_eNKey * K_tKey\n",
    "R_mGear = R_mNGear  * K_tGear \n",
    "\n",
    "# display the results\n",
    "HM.EqPrint('R_eShaft',R_eShaft)\n",
    "HM.EqPrint('R_eKey',R_eKey)\n",
    "HM.EqPrint('R_mHub',R_mGear)\n",
    "\n",
    "\n",
    "S_f = 1.5 #Assumption \n",
    "\n",
    "# Corrected Yield Strengths (R_e = R_eN * Kt)\n",
    "R_e_Shaft_corr = R_eNShaft * K_tShaft\n",
    "R_e_Key_corr = R_eNKey * K_tKey\n",
    "\n",
    "\n",
    "# --- FIX: REMOVE UNITS FROM P_HAT FOR PLOTTING ---\n",
    "p_hat_Shaft = UM.RemoveUnits(R_e_Shaft_corr) / S_f\n",
    "p_hat_Key = UM.RemoveUnits(R_e_Key_corr) / S_f # TRUE WEAKEST LINK LIMIT\n",
    "\n",
    "\n",
    "# calculate overall safety (Using the weakest link: R_eKey)\n",
    "# Note: The safety check must use the weakest material (R_eKey)\n",
    "p_applied_at_l = UM.RemoveUnits(SC.p_gem) # The applied pressure calculated using l=63mm\n",
    "\n",
    "S = min(UM.RemoveUnits(R_eShaft),UM.RemoveUnits(R_eKey),UM.RemoveUnits(R_mGear))*N_/mm_**2 / SC.p_gem\n",
    "t=HM.EqPrint('S',S)"
   ]
  },
  {
   "cell_type": "code",
   "execution_count": 11,
   "id": "cbbb2b47",
   "metadata": {},
   "outputs": [
    {
     "data": {
      "text/latex": [
       "$\\displaystyle l_{prime min} = 9.226$"
      ],
      "text/plain": [
       "Eq(l_prime_min, 9.226)"
      ]
     },
     "metadata": {},
     "output_type": "display_data"
    },
    {
     "data": {
      "text/latex": [
       "$\\displaystyle l_{prime total} = 21.23$"
      ],
      "text/plain": [
       "Eq(l_prime_total, 21.23)"
      ]
     },
     "metadata": {},
     "output_type": "display_data"
    },
    {
     "data": {
      "image/png": "[encoded data removed]",
      "text/plain": [
       "<Figure size 1000x600 with 1 Axes>"
      ]
     },
     "metadata": {},
     "output_type": "display_data"
    },
    {
     "name": "stdout",
     "output_type": "stream",
     "text": [
      "\n",
      "--- Final Key Design Summary ---\n",
      "1. Maximum Applied Pressure (at L=28mm): 110.00 N/mm^2\n",
      "2. Weakest Link Allowable Stress (p_hat): 190.77 N/mm^2\n",
      "3. Calculated Minimum Required Total Length (l_min): 21.23 mm\n",
      "4. Chosen Standard Length (l): 63 mm (Safety Factor: 5.53)\n"
     ]
    }
   ],
   "source": [
    "#Define the pressure function p_gem(l') for plotting (p(l') = C_plot / l')\n",
    "def p_gem_function_of_l_prime(l_prime):\n",
    "    \"\"\"Calculates applied pressure (N/mm^2) for a given key length (mm).\"\"\"\n",
    "    #l_prime[l_prime <= 1e-6] = 1e-6 \n",
    "    return C_plot / l_prime\n",
    "\n",
    "# --- L to L' Conversion Constants ---\n",
    "B_WIDTH = UM.RemoveUnits(SC.b) # Key width b = 12 mm\n",
    "L_EFF_LIMIT_D = 1.3 * UM.RemoveUnits(SC.d) # l'_limit = 1.3 * 42 mm = 54.6 mm\n",
    "SHAFT_DIAMETER_MM = UM.RemoveUnits(SC.d) \n",
    "# Calculate Minimum Required Length (l'_min)\n",
    "l_prime_min = C_plot / p_hat_Key\n",
    "l_min_total = l_prime_min + B_WIDTH # Total minimum length required for safety\n",
    "HM.EqPrint('l_prime_min', l_prime_min)\n",
    "HM.EqPrint('l_prime_total', l_min_total)\n",
    "# Define Plot Range (L_prime_values runs from l'_min to l'_max)\n",
    "L_prime_plot_range = np.linspace(28, 110, 400)\n",
    "Pressure_values = p_gem_function_of_l_prime(L_prime_plot_range)\n",
    "\n",
    "# CONVERSION STEP: Convert l' values to L values for the X-Axis\n",
    "L_values_for_plot = L_prime_plot_range + B_WIDTH/1000\n",
    "\n",
    "# --- Plot Generation ---\n",
    "plt.figure(figsize=(10, 6))\n",
    "\n",
    "# 1. Plot the Pressure Curve (p_gem) - X-Axis is L\n",
    "plt.plot(L_values_for_plot, Pressure_values, label=f\"Applied Pressure $p_{{gem}}(l')$ (Method B, $K_{{\\\\lambda}}={SC.K_lambda}$)\", color='darkblue', linewidth=2)\n",
    "\n",
    "# 2. Plot the TRUE System Limit (Weakest Link: E295 Key)\n",
    "plt.axhline(y=p_hat_Key, color='red', linestyle='--', linewidth=2,\n",
    "            label=f\"Weakest Link Limit (E295 Key) $\\\\overline{{p}}={p_hat_Key:.1f}$ N/mm²\")\n",
    "\n",
    "# 3. Plot the Shaft Limit (38Cr2) - Stronger Link for comparison\n",
    "plt.axhline(y=p_hat_Shaft, color='red', linestyle=':', linewidth=1.0, alpha=0.6,\n",
    "            label=f\"Shaft Limit (38Cr2) $\\\\overline{{p}}={p_hat_Shaft:.1f}$ N/mm²\")\n",
    "\n",
    "# 4. SHADE REGION: Ineffective Length (l' > 1.3 * d)\n",
    "# The shade starts at the total length L_limit = l'_limit + b\n",
    "L_limit_total = L_EFF_LIMIT_D + B_WIDTH # 54.6 mm + 12 mm = 66.6 mm\n",
    "plt.axvspan(L_limit_total, 115, alpha=0.2, color='purple', hatch='/',\n",
    "            label=f\"Ineffective Length Region ($l > 1.3d + b = {L_limit_total:.1f}mm$)\")\n",
    "\n",
    "# 5. Plot the Minimum Required Length (l_min_total)\n",
    "plt.axvline(x=l_min_total, color='green', linestyle='-.',\n",
    "            label=f\"Required $l_{{min}}$ = {l_min_total:.2f} mm\")\n",
    "\n",
    "# 6. Highlight the chosen length (l=63mm)\n",
    "L_chosen_point = UM.RemoveUnits(SC.l)\n",
    "l_prime_for_chosen_l = L_chosen_point - B_WIDTH\n",
    "p_at_chosen_l = p_gem_function_of_l_prime(np.array([l_prime_for_chosen_l]))[0]\n",
    "\n",
    "plt.plot(L_chosen_point, p_at_chosen_l, 'ro', markersize=7, markeredgecolor='black',\n",
    "         label=f\"Chosen Design Point ($l={L_chosen_point:.0f}$mm): {p_at_chosen_l:.2f} N/mm²\", zorder=5)\n",
    "\n",
    "# --- Final Styling ---\n",
    "plt.ylim(0,400) \n",
    "plt.xlim(20, 115)\n",
    "plt.title(f\"Key Bearing Pressure vs. Total Key Length (d={SHAFT_DIAMETER_MM:.0f}mm)\", fontsize=14)\n",
    "plt.xlabel(\"Total Key Length $l$ (mm)\", fontsize=12) # Label now reflects 'l'\n",
    "plt.ylabel(\"Average Pressure $p$ (N/mm²)\", fontsize=12)\n",
    "\n",
    "# Add Annotation for Weakest Link\n",
    "plt.annotate('Weakest Link (E295)', xy=(L_values_for_plot[-1], p_hat_Key + 30), xytext=(85, p_hat_Key + 100), \n",
    "             arrowprops=dict(facecolor='black', shrink=0.05, width=1.5), fontsize=10)\n",
    "\n",
    "plt.legend(fontsize=10)\n",
    "plt.grid(True, linestyle='--', alpha=0.6)\n",
    "plt.tight_layout()\n",
    "plt.show()\n",
    "\n",
    "print(f\"\\n--- Final Key Design Summary ---\")\n",
    "print(f\"1. Maximum Applied Pressure (at L=28mm): {p_gem_function_of_l_prime(np.array([28 - B_WIDTH]))[0]:.2f} N/mm^2\")\n",
    "print(f\"2. Weakest Link Allowable Stress (p_hat): {p_hat_Key:.2f} N/mm^2\")\n",
    "print(f\"3. Calculated Minimum Required Total Length (l_min): {l_min_total:.2f} mm\")\n",
    "print(f\"4. Chosen Standard Length (l): {L_chosen_point:.0f} mm (Safety Factor: {p_hat_Key / p_at_chosen_l:.2f})\")\n"
   ]
  },
  {
   "cell_type": "markdown",
   "id": "fd1b9bf3",
   "metadata": {},
   "source": [
    "### Conclusion:\n",
    "\n",
    "From the code above for the calculations on key connections, the insight can be found:\n",
    "\n",
    "    - The p_gem pressure decreases as the key's length l increases.\n",
    "    - The lowest failure limit among all materials belongs to E295 for keys, which can be noticed immediately from the tensile strength values.\n",
    "    - The maximum surface pressure that the key needs to withstand is well below the failure limit (worst case lmin = 21.23mm) ==> Mechanically safe\n"
   ]
  }
 ],
 "metadata": {
  "kernelspec": {
   "display_name": "Python 3",
   "language": "python",
   "name": "python3"
  },
  "language_info": {
   "codemirror_mode": {
    "name": "ipython",
    "version": 3
   },
   "file_extension": ".py",
   "mimetype": "text/x-python",
   "name": "python",
   "nbconvert_exporter": "python",
   "pygments_lexer": "ipython3",
   "version": "3.13.8"
  }
 },
 "nbformat": 4,
 "nbformat_minor": 5
}
