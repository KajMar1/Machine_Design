{
 "cells": [
  {
   "cell_type": "markdown",
   "id": "ed8a003d",
   "metadata": {},
   "source": [
    "# Assignment\n",
    "\n",
    "###In this assignment, we will design the drive system for a transport belt. The drive will be powered by a geared electromotor and a chain transmission. Here are the initial specifications:###\n",
    "\n",
    "Speed of the motor: $n_3 = 1500 \\: rpm$\n",
    "\n",
    "Team specific requirements:\n",
    "- Speed of chain: $v_1 = 15 \\: km/h$\n",
    "- Sprocket diameter: $d_1 = 450 \\: mm$\n",
    "- Power needed to move the carts:  $P_1 = 4.4 \\: kW$\n",
    "-----"
   ]
  },
  {
   "cell_type": "code",
   "execution_count": 7,
   "id": "e4a03b20",
   "metadata": {},
   "outputs": [
    {
     "name": "stdout",
     "output_type": "stream",
     "text": [
      "['kg_', 'm_', 'dm_', 'cm_', 'mm_', 'mu_m_', 'N_', 'rpm_', 's_', 'W_', 'Pa_', 'deg_', 'h_']\n"
     ]
    }
   ],
   "source": [
    "# import statements\n",
    "import sympy as sp\n",
    "import numpy as np\n",
    "import matplotlib.pyplot as plt\n",
    "\n",
    "import rm_python_lib.MechDesign.Helpers as HM\n",
    "# UM.PrintAvailableUnits()\n",
    "\n",
    "from rm_python_lib.MechDesign.Units.Units import m_, mm_, kg_, s_, N_, rpm_, W_\n",
    "import rm_python_lib.MechDesign.Units.UnitMethods as UM\n",
    "UM.PrintAvailableUnits() # I recolated this line from above to here\n",
    "import rm_python_lib.MechDesign.RnM as RnM\n",
    "belt = RnM.Belt()\n",
    "gears = RnM.GearDesign()\n",
    "chain = RnM.Chain()\n",
    "B1 = RnM.Shaft()\n",
    "B2 = RnM.Shaft()\n",
    "connections = RnM.ShaftConnection()"
   ]
  },
  {
   "cell_type": "markdown",
   "id": "b48a0925",
   "metadata": {},
   "source": [
    "## Sesion 1\n",
    "\n"
   ]
  },
  {
   "cell_type": "markdown",
   "id": "68f5c60d",
   "metadata": {},
   "source": [
    "### P T n Calculations\n",
    "First lets insert known data to the variables:"
   ]
  },
  {
   "cell_type": "code",
   "execution_count": null,
   "id": "f19ee410",
   "metadata": {},
   "outputs": [],
   "source": []
  },
  {
   "cell_type": "code",
   "execution_count": 8,
   "id": "40d8b921",
   "metadata": {},
   "outputs": [],
   "source": [
    "# Given values\n",
    "belt.n_1 = 1500*rpm_  # Speed of motor\n",
    "chain.v = 15/3.6*m_/s_  # Speed of sprocket 1\n",
    "chain.d_1 = UM.All_to_SI(450*mm_)  # Diameter of sprocket 1\n",
    "chain.P_2 = 4.4*1000*W_  # Power needed at sprocket 1\n",
    "gears.beta_1 =0    # teeth are straight cut \n",
    "gears.beta_2 = 0    # teeth are straight cut \n",
    "\n"
   ]
  },
  {
   "cell_type": "markdown",
   "id": "872ff8a7",
   "metadata": {},
   "source": [
    "Having in mind the given data now it is possible to calculate the parameters for the shaft $B2$. Also it is important to mention that the shafts are numbered from left to right. Meaning that motor shaft data is marked with a \"$_1$\", $B1$ shaft with and index \"$_2$\" and the $B2$ shaft with and index \"$_3$\". Since now we assume ideal conditions to compute aproximate power, all three shafts will have the same power because of the conservation of energy."
   ]
  },
  {
   "cell_type": "code",
   "execution_count": 9,
   "id": "83fe7833",
   "metadata": {},
   "outputs": [
    {
     "data": {
      "text/latex": [
       "$\\displaystyle P_{1} = 4400.0 W_{}$"
      ],
      "text/plain": [
       "Eq(P_1, 4400.0*W_)"
      ]
     },
     "metadata": {},
     "output_type": "display_data"
    },
    {
     "data": {
      "text/latex": [
       "$\\displaystyle P_{2} = 4400.0 W_{}$"
      ],
      "text/plain": [
       "Eq(P_2, 4400.0*W_)"
      ]
     },
     "metadata": {},
     "output_type": "display_data"
    },
    {
     "data": {
      "text/latex": [
       "$\\displaystyle P_{3} = 4400.0 W_{}$"
      ],
      "text/plain": [
       "Eq(P_3, 4400.0*W_)"
      ]
     },
     "metadata": {},
     "output_type": "display_data"
    },
    {
     "data": {
      "text/latex": [
       "$\\displaystyle T_{3} = 237.6 W_{} s_{}$"
      ],
      "text/plain": [
       "Eq(T_3, 237.6*W_*s_)"
      ]
     },
     "metadata": {},
     "output_type": "display_data"
    },
    {
     "data": {
      "text/latex": [
       "$\\displaystyle n_{3} = 176.8 rpm_{}$"
      ],
      "text/plain": [
       "Eq(n_3, 176.8*rpm_)"
      ]
     },
     "metadata": {},
     "output_type": "display_data"
    }
   ],
   "source": [
    "chain.T_1 = chain.P_2/(2*chain.v/chain.d_1)  # Torque on sprocket 1\n",
    "\n",
    "w_1 = 2*chain.v/chain.d_1             # Angular velocity of sprocket 1\n",
    "chain.n_1 = UM.RemoveUnits(w_1/(2*sp.pi)*60*rpm_)*rpm_  # Rotational speed of sprocket 1\n",
    "\n",
    "belt.P = chain.P_2\n",
    "gears.P_1 = chain.P_2\n",
    "\n",
    "t=HM.EqPrint('P_1', chain.P_2)\n",
    "t=HM.EqPrint('P_2', chain.P_2)\n",
    "t=HM.EqPrint('P_3', chain.P_2)\n",
    "t=HM.EqPrint('T_3', chain.T_1.evalf())\n",
    "t=HM.EqPrint('n_3', chain.n_1.evalf())"
   ]
  },
  {
   "cell_type": "code",
   "execution_count": 10,
   "id": "df98f689",
   "metadata": {},
   "outputs": [
    {
     "data": {
      "text/latex": [
       "$\\displaystyle i_{tot} = 0.1179$"
      ],
      "text/plain": [
       "Eq(i_tot, 0.1179)"
      ]
     },
     "metadata": {},
     "output_type": "display_data"
    },
    {
     "data": {
      "text/latex": [
       "$\\displaystyle n_{2} = 398.9 rpm_{}$"
      ],
      "text/plain": [
       "Eq(n_2, 398.9*rpm_)"
      ]
     },
     "metadata": {},
     "output_type": "display_data"
    },
    {
     "data": {
      "text/latex": [
       "$\\displaystyle i_{r} = 0.266$"
      ],
      "text/plain": [
       "Eq(i_r, 0.266)"
      ]
     },
     "metadata": {},
     "output_type": "display_data"
    },
    {
     "data": {
      "text/latex": [
       "$\\displaystyle i_{twk} = 0.4433$"
      ],
      "text/plain": [
       "Eq(i_twk, 0.4433)"
      ]
     },
     "metadata": {},
     "output_type": "display_data"
    }
   ],
   "source": [
    "import math\n",
    "i_tot = chain.n_1/belt.n_1\n",
    "t=HM.EqPrint('i_tot',i_tot)\n",
    "\n",
    "\n",
    "belt.n_2 = math.sqrt(UM.RemoveUnits(3*chain.n_1*belt.n_1/5))\n",
    "t = HM.EqPrint('n_2',belt.n_2*rpm_) \n",
    "\n",
    "belt.i = UM.RemoveUnits(belt.n_2/belt.n_1)\n",
    "t = HM.EqPrint('i_r',belt.i)\n",
    "\n",
    "gears.omega_1 = UM.rpm_to_rad_s(belt.n_2*rpm_)\n",
    "gears.omega_2 = UM.rpm_to_rad_s(chain.n_1)\n",
    "\n",
    "gears.i = gears.omega_2/gears.omega_1\n",
    "t = HM.EqPrint('i_twk', gears.i)\n",
    "\n"
   ]
  },
  {
   "cell_type": "markdown",
   "id": "2dc7aa65",
   "metadata": {},
   "source": [
    "Since now all the rotational speeds are known the torques can be computed."
   ]
  },
  {
   "cell_type": "code",
   "execution_count": 11,
   "id": "cdad36f3",
   "metadata": {},
   "outputs": [
    {
     "data": {
      "text/latex": [
       "$\\displaystyle T_{1} = 28.01 W_{} s_{}$"
      ],
      "text/plain": [
       "Eq(T_1, 28.01*W_*s_)"
      ]
     },
     "metadata": {},
     "output_type": "display_data"
    },
    {
     "data": {
      "text/latex": [
       "$\\displaystyle T_{2} = 105.3 W_{} s_{}$"
      ],
      "text/plain": [
       "Eq(T_2, 105.3*W_*s_)"
      ]
     },
     "metadata": {},
     "output_type": "display_data"
    }
   ],
   "source": [
    "belt.T_1 = belt.P/ UM.rpm_to_rad_s(belt.n_1)\n",
    "\n",
    "belt.T_2 = gears.P_1/ gears.omega_1\n",
    "t = HM.EqPrint('T_1', belt.T_1)\n",
    "t = HM.EqPrint('T_2', belt.T_2)"
   ]
  },
  {
   "cell_type": "markdown",
   "id": "f09476f9",
   "metadata": {},
   "source": [
    "### Motor selection"
   ]
  },
  {
   "cell_type": "markdown",
   "id": "27dca9f1",
   "metadata": {},
   "source": [
    "# Selection Criteria"
   ]
  },
  {
   "cell_type": "markdown",
   "id": "79304bc8",
   "metadata": {},
   "source": [
    "### Based on the provided data of desired Power output = 4.4kW, and with the efficiency n (= my assumption = 0.9), we can find that the motor desired power is around 4.9kW. Looking at the \"Power P in kW for a synchronous rotational speed, 1500 rpm-1 column, we notice there is no 4.9kW value. Therefore we need to take the uper suitable value, 5.5kW. And hence the selected motor is 132S. It has a shaft diameter of 38mm (needed for the key calculation)."
   ]
  },
  {
   "cell_type": "markdown",
   "id": "d3811e44",
   "metadata": {},
   "source": [
    "![Motor Selection Table 16-21](table16-21.png)\n"
   ]
  },
  {
   "cell_type": "markdown",
   "id": "2e3939fe",
   "metadata": {},
   "source": [
    "### Finding the right Ka\n",
    "In this section, Ka and the efficiency of the motor is calculated based on some design assumptions.\n",
    "------------\n",
    "\n",
    "![Table_3_5b](Table_3_5b.png)\n",
    "\n",
    "Assuming a medium-duty induction motor (moderate start/stop frequency), continuous full-load operation with occasional mild shocks, a drivetrain susceptible to gear pitting, and 20 hours/day operation, the preliminary estimate for the control/amplifier constant is 𝐾𝐴=1.9. In this context 𝐾𝐴 represents the gain between the control command and stator voltage (i.e. Vs=KA⋅Vcontrol).A higher KA increases available stator voltage and therefore torque for a given controller output, but it also increases stator currents and associated copper and iron losses (losses scale nonlinearly with current). The operating conditions (frequent moderate starts, shocks and gear pitting) will reduce overall mechanical efficiency and increase vibration-related losses and bearing wear, so the effective system efficiency will be lower than nameplate motor efficiency. This estimated 𝐾𝐴 should therefore be validated experimentally and may need to be derated to limit thermal stress and prolong gearbox and bearing life."
   ]
  },
  {
   "cell_type": "markdown",
   "id": "27080c5f",
   "metadata": {},
   "source": [
    "### Key calculations\n"
   ]
  },
  {
   "cell_type": "markdown",
   "id": "362152b8",
   "metadata": {},
   "source": [
    "When the shaft transfers torque (T \n",
    "eq), the key applies a force, and that force results in surface pressure (p) on the contact area.\n",
    "Graph between torque and required length"
   ]
  },
  {
   "cell_type": "markdown",
   "id": "80e0baf2",
   "metadata": {},
   "source": [
    "(efficiency needed, to be cohesion with Part 1, n = 0.9)\n",
    "-> Pmotor = 4.4/0.9 = 4.889kw (In the motor selection, n is assumped to be 5.5)\n",
    "Tnom = Pmotor*60 / (2pi * 1500 min-1) = 35.01Nm\n"
   ]
  },
  {
   "cell_type": "markdown",
   "id": "ca94b90d",
   "metadata": {},
   "source": [
    "p (l) = 2*Ka*Tnom *Kv/(d*h'*l8*n*phi)\n",
    "\n",
    "Ka = 1.9, Tnom = 35.01, Kv = 1, n=1, phi = 1, d = 38mm, h' = 0.45*8 mm\n",
    "\n",
    "brittel: \n",
    "p_hat = Kt*RmN/Sb\n",
    "Kt = 1\n",
    "rmN = 800, Sb = 2\n",
    "\n",
    "ductile: p_hat = Kt*ReN/Sf\n",
    "Kt = 1, ReN = 550, Sf = 1.5"
   ]
  },
  {
   "cell_type": "markdown",
   "id": "a955e200",
   "metadata": {},
   "source": []
  },
  {
   "cell_type": "code",
   "execution_count": 14,
   "id": "945fece3",
   "metadata": {},
   "outputs": [
    {
     "data": {
      "image/png": "[encoded data removed]",
      "text/plain": [
       "<Figure size 1000x600 with 1 Axes>"
      ]
     },
     "metadata": {},
     "output_type": "display_data"
    },
    {
     "name": "stdout",
     "output_type": "stream",
     "text": [
      "--- Key Design Summary ---\n",
      "1. Governing Pressure Constant (C_plot / l'): 1050.30 N/mm²·mm\n",
      "2. Weakest Link Allowable Stress (p_hat_E295): 196.67 N/mm^2\n",
      "3. Calculated Minimum Required Length (l'_min): 5.34 mm\n",
      "4. Chosen Standard Length (l): 36 mm (Used for final dimensioning)\n"
     ]
    }
   ],
   "source": [
    "# Torques and Factors (Dimensionless or N.m):\n",
    "T_nom_Nm = 35.01 # N.m (Nominal Torque: 5.5 kW @ 1500 rpm)\n",
    "K_A = 1.9        # Application Factor (User provided value)\n",
    "K_lambda = 1.08  # Load Distribution Factor (Method B Iteration result)\n",
    "\n",
    "# Geometry (mm):\n",
    "d_mm = 38.0        # Shaft diameter\n",
    "h_prime_mm = 3.6   # Bearing key height (h' = 0.45 * 8mm standard key)\n",
    "\n",
    "# --- 2. Define Material Properties and Limits (N/mm^2) ---\n",
    "\n",
    "# Material 1 (Shaft Keyway - 38CR2)\n",
    "R_e_38Cr2 = 550.0  # Yield Strength for 38CR2\n",
    "S_f_ductile = 1.5  # Safety factor for ductile yield check\n",
    "\n",
    "# Material 2 (Key - E295) - This is the weakest link for Crushing (yields before 38CR2)\n",
    "R_e_E295 = 295.0   # Yield Strength for E295 (Standard key material)\n",
    "\n",
    "# Material 3 (Brittle Check Limit - for visual comparison)\n",
    "R_m_38Cr2 = 800.0  # Tensile Strength for 38CR2 (for S_B check only)\n",
    "S_b_brittle = 2.0  # Safety factor for brittle check\n",
    "\n",
    "# Calculate Permissible Stresses (p_hat):\n",
    "p_hat_38Cr2 = R_e_38Cr2 / S_f_ductile\n",
    "p_hat_E295 = R_e_E295 / S_f_ductile\n",
    "p_bar_Rm = R_m_38Cr2 / S_b_brittle\n",
    "\n",
    "# The system's true safety limit is the lowest p_hat value:\n",
    "p_hat_system_limit = min(p_hat_38Cr2, p_hat_E295)\n",
    "\n",
    "# --- 3. Calculate the Pressure Curve Constant (C_plot) ---\n",
    "\n",
    "# C_plot_value = (2 * T_eq_Nmm * K_lambda) / (d_mm * h_prime_mm)\n",
    "# T_eq_Nmm = T_nom_Nm * K_A * 1000 (unit conversion N.m to N.mm)\n",
    "C_num_final = 2 * T_nom_Nm * K_A * K_lambda * 1000\n",
    "C_denom_final = d_mm * h_prime_mm\n",
    "C_plot_value = C_num_final / C_denom_final\n",
    "\n",
    "# C_plot_value is approximately 1050.30 (N/mm^2 * mm)\n",
    "C_plot_value = 1050.30 # Using the verified constant\n",
    "\n",
    "# --- 4. Define the Pressure Function p(l') ---\n",
    "# p(l') = C_plot / l'\n",
    "def pressure_function(l_prime_mm):\n",
    "    \"\"\"Calculates surface pressure (N/mm^2) for a given key length (mm).\"\"\"\n",
    "    # Protect against division by zero for l'=0\n",
    "    l_prime_mm[l_prime_mm == 0] = 1e-6\n",
    "    return C_plot_value / l_prime_mm\n",
    "\n",
    "# --- 5. Find the Critical Length (l'_min) ---\n",
    "# l'_min = C_plot / p_hat_system_limit\n",
    "l_prime_min = C_plot_value / p_hat_system_limit\n",
    "\n",
    "# --- 6. Generate Data for Plotting ---\n",
    "L_prime_values = np.linspace(0.5, 40, 400)\n",
    "Pressure_values = pressure_function(L_prime_values)\n",
    "\n",
    "# --- 7. Create the Plot ---\n",
    "plt.figure(figsize=(10, 6))\n",
    "\n",
    "# Plot the Pressure Curve (p(l'))\n",
    "plt.plot(L_prime_values, Pressure_values, label=f\"Applied Pressure $p(l') = \\\\frac{{{C_plot_value:.2f}}}{{l'}}$ (Method B, $K_{{\\\\lambda}}={K_lambda}$)\", color='darkblue', linewidth=2)\n",
    "\n",
    "# --- Plot the Material Limits (p_hat) ---\n",
    "# 1. True System Limit (E295 Key) - The lowest limit\n",
    "plt.axhline(y=p_hat_E295, color='red', linestyle='--', linewidth=2,\n",
    "            label=f\"Weakest Link Limit (E295 Key) $\\\\overline{{p}}={p_hat_E295:.1f}$ N/mm²\")\n",
    "\n",
    "# 2. Shaft Keyway Limit (38CR2) - Higher limit (ignored for design)\n",
    "plt.axhline(y=p_hat_38Cr2, color='red', linestyle=':', linewidth=1.0, alpha=0.6,\n",
    "            label=f\"Shaft Keyway Limit (38CR2) $\\\\overline{{p}}={p_hat_38Cr2:.1f}$ N/mm²\")\n",
    "\n",
    "# 3. Brittle Check Limit (38CR2) - For comparison to yield\n",
    "# plt.axhline(y=p_bar_Rm, color='orange', linestyle=':', linewidth=1.0, alpha=0.5,\n",
    "#             label=f\"Brittle Check (38CR2) $\\\\overline{{p}}_{{Rm}}={p_bar_Rm:.1f}$ N/mm²\")\n",
    "\n",
    "# Plot the Minimum Required Length (l'_min)\n",
    "plt.axvline(x=l_prime_min, color='green', linestyle='-.',\n",
    "            label=f\"Required Min Length $l'_{{min}}$ = {l_prime_min:.2f} mm\")\n",
    "\n",
    "# Highlight the actual design point (Min Length, Max Pressure)\n",
    "plt.plot(l_prime_min, p_hat_E295, 'go', markersize=8, markeredgecolor='black', zorder=5)\n",
    "\n",
    "# --- Annotations and Labels ---\n",
    "plt.ylim(0, 1.2 * p_hat_38Cr2) # Y-axis scale based on the highest yield point\n",
    "plt.xlim(0, 40)\n",
    "plt.title(f\"Surface Pressure vs. Key Length (Method B Check)\", fontsize=14)\n",
    "plt.xlabel(\"Load-Bearing Key Length $l'$ (mm)\", fontsize=12)\n",
    "plt.ylabel(\"Surface Pressure $p$ (N/mm²)\", fontsize=12)\n",
    "plt.legend(fontsize=10)\n",
    "plt.grid(True, linestyle='--', alpha=0.6)\n",
    "plt.tight_layout()\n",
    "plt.show()\n",
    "\n",
    "print(f\"--- Key Design Summary ---\")\n",
    "print(f\"1. Governing Pressure Constant (C_plot / l'): {C_plot_value:.2f} N/mm²·mm\")\n",
    "print(f\"2. Weakest Link Allowable Stress (p_hat_E295): {p_hat_E295:.2f} N/mm^2\")\n",
    "print(f\"3. Calculated Minimum Required Length (l'_min): {l_prime_min:.2f} mm\")\n",
    "print(f\"4. Chosen Standard Length (l): 36 mm (Used for final dimensioning)\")"
   ]
  }
 ],
 "metadata": {
  "kernelspec": {
   "display_name": "Python 3",
   "language": "python",
   "name": "python3"
  },
  "language_info": {
   "codemirror_mode": {
    "name": "ipython",
    "version": 3
   },
   "file_extension": ".py",
   "mimetype": "text/x-python",
   "name": "python",
   "nbconvert_exporter": "python",
   "pygments_lexer": "ipython3",
   "version": "3.13.7"
  }
 },
 "nbformat": 4,
 "nbformat_minor": 5
}
