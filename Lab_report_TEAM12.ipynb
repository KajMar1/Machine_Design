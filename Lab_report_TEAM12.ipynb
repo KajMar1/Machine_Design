{
 "cells": [
  {
   "cell_type": "markdown",
   "id": "ed8a003d",
   "metadata": {},
   "source": [
    "# Assignment\n",
    "\n",
    "###In this assignment, we will design the drive system for a transport belt. The drive will be powered by a geared electromotor and a chain transmission. Here are the initial specifications:###\n",
    "\n",
    "Speed of the motor: $n_3 = 1500 \\: rpm$\n",
    "\n",
    "Team specific requirements:\n",
    "- Speed of chain: $v_1 = 15 \\: km/h$\n",
    "- Sprocket diameter: $d_1 = 450 \\: mm$\n",
    "- Power needed to move the carts:  $P_1 = 4.4 \\: kW$\n",
    "-----"
   ]
  },
  {
   "cell_type": "code",
   "execution_count": 1,
   "id": "e4a03b20",
   "metadata": {},
   "outputs": [
    {
     "ename": "ModuleNotFoundError",
     "evalue": "No module named 'rm_python_lib.MechDesign'",
     "output_type": "error",
     "traceback": [
      "\u001b[31m---------------------------------------------------------------------------\u001b[39m",
      "\u001b[31mModuleNotFoundError\u001b[39m                       Traceback (most recent call last)",
      "\u001b[36mCell\u001b[39m\u001b[36m \u001b[39m\u001b[32mIn[1]\u001b[39m\u001b[32m, line 6\u001b[39m\n\u001b[32m      3\u001b[39m \u001b[38;5;28;01mimport\u001b[39;00m\u001b[38;5;250m \u001b[39m\u001b[34;01mnumpy\u001b[39;00m\u001b[38;5;250m \u001b[39m\u001b[38;5;28;01mas\u001b[39;00m\u001b[38;5;250m \u001b[39m\u001b[34;01mnp\u001b[39;00m\n\u001b[32m      4\u001b[39m \u001b[38;5;28;01mimport\u001b[39;00m\u001b[38;5;250m \u001b[39m\u001b[34;01mmatplotlib\u001b[39;00m\u001b[34;01m.\u001b[39;00m\u001b[34;01mpyplot\u001b[39;00m\u001b[38;5;250m \u001b[39m\u001b[38;5;28;01mas\u001b[39;00m\u001b[38;5;250m \u001b[39m\u001b[34;01mplt\u001b[39;00m\n\u001b[32m----> \u001b[39m\u001b[32m6\u001b[39m \u001b[38;5;28;01mimport\u001b[39;00m\u001b[38;5;250m \u001b[39m\u001b[34;01mrm_python_lib\u001b[39;00m\u001b[34;01m.\u001b[39;00m\u001b[34;01mMechDesign\u001b[39;00m\u001b[34;01m.\u001b[39;00m\u001b[34;01mHelpers\u001b[39;00m\u001b[38;5;250m \u001b[39m\u001b[38;5;28;01mas\u001b[39;00m\u001b[38;5;250m \u001b[39m\u001b[34;01mHM\u001b[39;00m\n\u001b[32m      8\u001b[39m \u001b[38;5;28;01mfrom\u001b[39;00m\u001b[38;5;250m \u001b[39m\u001b[34;01mrm_python_lib\u001b[39;00m\u001b[34;01m.\u001b[39;00m\u001b[34;01mMechDesign\u001b[39;00m\u001b[34;01m.\u001b[39;00m\u001b[34;01mUnits\u001b[39;00m\u001b[34;01m.\u001b[39;00m\u001b[34;01mUnits\u001b[39;00m\u001b[38;5;250m \u001b[39m\u001b[38;5;28;01mimport\u001b[39;00m m_, mm_, kg_, s_, N_, rpm_, W_\n\u001b[32m      9\u001b[39m \u001b[38;5;28;01mimport\u001b[39;00m\u001b[38;5;250m \u001b[39m\u001b[34;01mrm_python_lib\u001b[39;00m\u001b[34;01m.\u001b[39;00m\u001b[34;01mMechDesign\u001b[39;00m\u001b[34;01m.\u001b[39;00m\u001b[34;01mUnits\u001b[39;00m\u001b[34;01m.\u001b[39;00m\u001b[34;01mUnitMethods\u001b[39;00m\u001b[38;5;250m \u001b[39m\u001b[38;5;28;01mas\u001b[39;00m\u001b[38;5;250m \u001b[39m\u001b[34;01mUM\u001b[39;00m\n",
      "\u001b[31mModuleNotFoundError\u001b[39m: No module named 'rm_python_lib.MechDesign'"
     ]
    }
   ],
   "source": [
    "# import statements\n",
    "import sympy as sp\n",
    "import numpy as np\n",
    "import matplotlib.pyplot as plt\n",
    "\n",
    "import rm_python_lib.MechDesign.Helpers as HM\n",
    "\n",
    "from rm_python_lib.MechDesign.Units.Units import m_, mm_, kg_, s_, N_, rpm_, W_\n",
    "import rm_python_lib.MechDesign.Units.UnitMethods as UM\n",
    "\n",
    "import rm_python_lib.MechDesign.RnM as RnM\n",
    "belt = RnM.Belt()\n",
    "gears = RnM.GearDesign()\n",
    "chain = RnM.Chain()\n",
    "B1 = RnM.Shaft()\n",
    "B2 = RnM.Shaft()\n",
    "connections = RnM.ShaftConnection()"
   ]
  },
  {
   "cell_type": "markdown",
   "id": "b48a0925",
   "metadata": {},
   "source": [
    "## Session 1\n",
    "\n"
   ]
  },
  {
   "cell_type": "markdown",
   "id": "68f5c60d",
   "metadata": {},
   "source": [
    "### 1. P T n Calculations\n",
    "------------\n",
    "First let's insert known data to the variables. The belt efficiency is taken from the chapter 16 from Roloff and Matek Book that explains the flat belts (the ones we will be using). Gear efficiency is assumed based on the conditions in Part 3 of this assignment."
   ]
  },
  {
   "cell_type": "code",
   "execution_count": null,
   "id": "40d8b921",
   "metadata": {},
   "outputs": [],
   "source": [
    "# Given values\n",
    "belt.n_1 = 1500*rpm_  # Speed of motor\n",
    "chain.v = 15/3.6*m_/s_  # Speed of sprocket 1\n",
    "chain.d_1 = UM.All_to_SI(450*mm_)  # Diameter of sprocket 1\n",
    "chain.P_2 = 4.4*1000*W_  # Power needed at sprocket 1\n",
    "gears.beta_1 =0    # teeth are straight cut \n",
    "gears.beta_2 = 0    # teeth are straight cut \n",
    "gears.nu_t = 0.9 # gear transmission efficiency\n",
    "belt.eta = 0.98 # belt drive efficiency\n"
   ]
  },
  {
   "cell_type": "markdown",
   "id": "5c60c8e8",
   "metadata": {},
   "source": []
  },
  {
   "cell_type": "markdown",
   "id": "872ff8a7",
   "metadata": {},
   "source": [
    "Having in mind the given data now it is possible to calculate the parameters for the shaft $B2$. Also it is important to mention that the shafts are numbered from left to right. Meaning that motor shaft data is marked with a \"$_1$\", $B1$ shaft with and index \"$_2$\" and the $B2$ shaft with and index \"$_3$\". Since real operating conditions include transmission losses, the power decreases along the system, and each successive shaft transmits slightly less power."
   ]
  },
  {
   "cell_type": "code",
   "execution_count": null,
   "id": "83fe7833",
   "metadata": {},
   "outputs": [
    {
     "data": {
      "text/latex": [
       "$\\displaystyle P_{1} = 4989.0 W_{}$"
      ],
      "text/plain": [
       "Eq(P_1, 4989.0*W_)"
      ]
     },
     "metadata": {},
     "output_type": "display_data"
    },
    {
     "data": {
      "text/latex": [
       "$\\displaystyle P_{2} = 4889.0 W_{}$"
      ],
      "text/plain": [
       "Eq(P_2, 4889.0*W_)"
      ]
     },
     "metadata": {},
     "output_type": "display_data"
    },
    {
     "data": {
      "text/latex": [
       "$\\displaystyle P_{3} = 4400.0 W_{}$"
      ],
      "text/plain": [
       "Eq(P_3, 4400.0*W_)"
      ]
     },
     "metadata": {},
     "output_type": "display_data"
    },
    {
     "data": {
      "text/latex": [
       "$\\displaystyle T_{3} = 237.6 W_{} s_{}$"
      ],
      "text/plain": [
       "Eq(T_3, 237.6*W_*s_)"
      ]
     },
     "metadata": {},
     "output_type": "display_data"
    },
    {
     "data": {
      "text/latex": [
       "$\\displaystyle n_{3} = 176.8 rpm_{}$"
      ],
      "text/plain": [
       "Eq(n_3, 176.8*rpm_)"
      ]
     },
     "metadata": {},
     "output_type": "display_data"
    }
   ],
   "source": [
    "chain.T_1 = chain.P_2/(2*chain.v/chain.d_1)  # Torque on sprocket 1\n",
    "\n",
    "w_1 = 2*chain.v/chain.d_1             # Angular velocity of sprocket 1\n",
    "chain.n_1 = UM.RemoveUnits(w_1/(2*sp.pi)*60*rpm_)*rpm_  # Rotational speed of sprocket 1\n",
    "\n",
    "gears.P_1 = chain.P_2/ gears.nu_t  # Power needed at gear 1\n",
    "belt.P = gears.P_1 / belt.eta  # Power needed at pulley 1\n",
    "\n",
    "\n",
    "t=HM.EqPrint('P_1', belt.P)\n",
    "t=HM.EqPrint('P_2', gears.P_1)\n",
    "t=HM.EqPrint('P_3', chain.P_2)\n",
    "t=HM.EqPrint('T_3', chain.T_1.evalf())\n",
    "t=HM.EqPrint('n_3', chain.n_1.evalf())"
   ]
  },
  {
   "cell_type": "code",
   "execution_count": null,
   "id": "df98f689",
   "metadata": {},
   "outputs": [
    {
     "data": {
      "text/latex": [
       "$\\displaystyle i_{tot} = 0.1179$"
      ],
      "text/plain": [
       "Eq(i_tot, 0.1179)"
      ]
     },
     "metadata": {},
     "output_type": "display_data"
    },
    {
     "data": {
      "text/latex": [
       "$\\displaystyle n_{2} = 398.9 rpm_{}$"
      ],
      "text/plain": [
       "Eq(n_2, 398.9*rpm_)"
      ]
     },
     "metadata": {},
     "output_type": "display_data"
    },
    {
     "data": {
      "text/latex": [
       "$\\displaystyle i_{r} = 0.266$"
      ],
      "text/plain": [
       "Eq(i_r, 0.266)"
      ]
     },
     "metadata": {},
     "output_type": "display_data"
    },
    {
     "data": {
      "text/latex": [
       "$\\displaystyle i_{twk} = 0.4433$"
      ],
      "text/plain": [
       "Eq(i_twk, 0.4433)"
      ]
     },
     "metadata": {},
     "output_type": "display_data"
    }
   ],
   "source": [
    "import math\n",
    "i_tot = chain.n_1/belt.n_1\n",
    "t=HM.EqPrint('i_tot',i_tot)\n",
    "\n",
    "\n",
    "belt.n_2 = math.sqrt(UM.RemoveUnits(3*chain.n_1*belt.n_1/5))\n",
    "t = HM.EqPrint('n_2',belt.n_2*rpm_) \n",
    "\n",
    "belt.i = UM.RemoveUnits(belt.n_2/belt.n_1)\n",
    "t = HM.EqPrint('i_r',belt.i)\n",
    "\n",
    "gears.omega_1 = UM.rpm_to_rad_s(belt.n_2*rpm_)\n",
    "gears.omega_2 = UM.rpm_to_rad_s(chain.n_1)\n",
    "\n",
    "gears.i = gears.omega_2/gears.omega_1\n",
    "t = HM.EqPrint('i_twk', gears.i)\n",
    "\n"
   ]
  },
  {
   "cell_type": "markdown",
   "id": "2dc7aa65",
   "metadata": {},
   "source": [
    "Since now all the rotational speeds are known the torques can be computed."
   ]
  },
  {
   "cell_type": "code",
   "execution_count": null,
   "id": "cdad36f3",
   "metadata": {},
   "outputs": [
    {
     "data": {
      "text/latex": [
       "$\\displaystyle T_{1} = 31.76 W_{} s_{}$"
      ],
      "text/plain": [
       "Eq(T_1, 31.76*W_*s_)"
      ]
     },
     "metadata": {},
     "output_type": "display_data"
    },
    {
     "data": {
      "text/latex": [
       "$\\displaystyle T_{2} = 117.0 W_{} s_{}$"
      ],
      "text/plain": [
       "Eq(T_2, 117.0*W_*s_)"
      ]
     },
     "metadata": {},
     "output_type": "display_data"
    }
   ],
   "source": [
    "belt.T_1 = belt.P/ UM.rpm_to_rad_s(belt.n_1)\n",
    "\n",
    "belt.T_2 = gears.P_1/ gears.omega_1\n",
    "t = HM.EqPrint('T_1', belt.T_1)\n",
    "t = HM.EqPrint('T_2', belt.T_2)"
   ]
  },
  {
   "cell_type": "markdown",
   "id": "f09476f9",
   "metadata": {},
   "source": [
    "### 2. Motor selection\n",
    "------------"
   ]
  },
  {
   "cell_type": "markdown",
   "id": "2e3939fe",
   "metadata": {},
   "source": [
    "### 3. Finding the right $K_A$ and efficiency\n",
    "------------\n",
    "\n",
    "In this section, $K_A$ and the efficiency of the motor is calculated based on some design assumptions.\n",
    "\n",
    "![Table_3_5b](Table_3_5b.png)\n",
    "\n",
    "The operating conditions correspond to medium-duty service, characterized by a moderate number of startups, full-load operation with mild shocks, and a drivetrain susceptible to gear pitting. Based on these assumptions and an average daily runtime of 20 hours, the estimated operating factor is $K_A$ = 1.9. This factor accounts for dynamic effects such as torque fluctuations and transient load peaks, representing the ratio between equivalent dynamic torque and nominal steady torque. Consequently, the effective efficiency of the motor–gear system will be slightly lower than the rated efficiency due to mechanical losses and vibration-induced stresses. This estimation serves as a preliminary value and should be refined through vibration analysis, load monitoring, and thermal efficiency testing under real operating conditions."
   ]
  },
  {
   "cell_type": "markdown",
   "id": "27080c5f",
   "metadata": {},
   "source": [
    "### 4. Key calculations\n",
    "------------\n"
   ]
  },
  {
   "cell_type": "markdown",
   "id": "a955e200",
   "metadata": {},
   "source": []
  }
 ],
 "metadata": {
  "kernelspec": {
   "display_name": "Python 3",
   "language": "python",
   "name": "python3"
  },
  "language_info": {
   "codemirror_mode": {
    "name": "ipython",
    "version": 3
   },
   "file_extension": ".py",
   "mimetype": "text/x-python",
   "name": "python",
   "nbconvert_exporter": "python",
   "pygments_lexer": "ipython3",
   "version": "3.13.3"
  }
 },
 "nbformat": 4,
 "nbformat_minor": 5
}
