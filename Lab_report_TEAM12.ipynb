{
 "cells": [
  {
   "cell_type": "markdown",
   "id": "ed8a003d",
   "metadata": {},
   "source": [
    "# Asignment\n",
    "------------------------------------------\n"
   ]
  },
  {
   "cell_type": "markdown",
   "id": "b48a0925",
   "metadata": {},
   "source": [
    "## Sesion 1\n",
    "\n"
   ]
  },
  {
   "cell_type": "markdown",
   "id": "68f5c60d",
   "metadata": {},
   "source": [
    "### P T n Calculations"
   ]
  },
  {
   "cell_type": "markdown",
   "id": "f09476f9",
   "metadata": {},
   "source": [
    "### Motor selection"
   ]
  },
  {
   "cell_type": "markdown",
   "id": "2e3939fe",
   "metadata": {},
   "source": [
    "### Finding the right Ka"
   ]
  },
  {
   "cell_type": "markdown",
   "id": "27080c5f",
   "metadata": {},
   "source": [
    "### Key calculations\n",
    "In this section, Ka and the efficiency of the motor is calculated based on some design assumptions.\n",
    "------------\n",
    "\n",
    "![Table_3_5b](Table_3_5b.png)\n",
    "\n",
    "Assuming a medium-duty induction motor (moderate start/stop frequency), continuous full-load operation with occasional mild shocks, a drivetrain susceptible to gear pitting, and 20 hours/day operation, the preliminary estimate for the control/amplifier constant is 𝐾𝐴=1.9. In this context 𝐾𝐴 represents the gain between the control command and stator voltage (i.e. Vs=KA⋅Vcontrol).A higher KA increases available stator voltage and therefore torque for a given controller output, but it also increases stator currents and associated copper and iron losses (losses scale nonlinearly with current). The operating conditions (frequent moderate starts, shocks and gear pitting) will reduce overall mechanical efficiency and increase vibration-related losses and bearing wear, so the effective system efficiency will be lower than nameplate motor efficiency. This estimated 𝐾𝐴 should therefore be validated experimentally and may need to be derated to limit thermal stress and prolong gearbox and bearing life."
   ]
  },
  {
   "cell_type": "markdown",
   "id": "a955e200",
   "metadata": {},
   "source": []
  }
 ],
 "metadata": {
  "language_info": {
   "name": "python"
  }
 },
 "nbformat": 4,
 "nbformat_minor": 5
}
