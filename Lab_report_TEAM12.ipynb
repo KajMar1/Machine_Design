{
 "cells": [
  {
   "cell_type": "markdown",
   "id": "ed8a003d",
   "metadata": {},
   "source": [
    "# Asignment\n",
    "------------------------------------------\n"
   ]
  },
  {
   "cell_type": "markdown",
   "id": "b48a0925",
   "metadata": {},
   "source": [
    "## Sesion 1\n",
    "\n"
   ]
  },
  {
   "cell_type": "markdown",
   "id": "68f5c60d",
   "metadata": {},
   "source": [
    "### P T n Calculations"
   ]
  },
  {
   "cell_type": "markdown",
   "id": "f09476f9",
   "metadata": {},
   "source": [
    "### Motor selection"
   ]
  },
  {
   "cell_type": "markdown",
   "id": "2e3939fe",
   "metadata": {},
   "source": [
    "### Finding the right Ka"
   ]
  },
  {
   "cell_type": "markdown",
   "id": "27080c5f",
   "metadata": {},
   "source": [
    "### Key calculations\n",
    "------------\n"
   ]
  }
 ],
 "metadata": {
  "language_info": {
   "name": "python"
  }
 },
 "nbformat": 4,
 "nbformat_minor": 5
}
